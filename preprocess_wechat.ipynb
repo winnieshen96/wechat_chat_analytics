{
 "cells": [
  {
   "cell_type": "code",
   "execution_count": null,
   "metadata": {},
   "outputs": [],
   "source": [
    "import pandas as pd\n",
    "import numpy as np\n",
    "import datetime"
   ]
  },
  {
   "cell_type": "code",
   "execution_count": null,
   "metadata": {},
   "outputs": [],
   "source": [
    "# 指定要分析的已经导出的聊天记录\n",
    "input_file = ...\n",
    "\n",
    "data = pd.read_excel(input_file, index_col=0)\n",
    "data.head()"
   ]
  },
  {
   "cell_type": "code",
   "execution_count": null,
   "metadata": {},
   "outputs": [],
   "source": [
    "data.columns"
   ]
  },
  {
   "cell_type": "code",
   "execution_count": null,
   "metadata": {},
   "outputs": [],
   "source": [
    "# 去掉聊天记录里不想分析的人的聊天记录\n",
    "talker_id = ...\n",
    "data = data.drop(data[data.talker != talker_id].index)\n",
    "len(data)"
   ]
  },
  {
   "cell_type": "code",
   "execution_count": null,
   "metadata": {},
   "outputs": [],
   "source": [
    "# 只剩下msgId, type, isSend:是接受的一方还是发送的一方，createTime, content\n",
    "data.drop(columns=['msgSvrId', 'status', 'isShowTimer','talker', 'reserved', 'lvbuffer', 'transContent',\n",
    "       'transBrandWording', 'talkerId', 'bizClientMsgId', 'bizChatId',\n",
    "       'bizChatUserId', 'msgSeq', 'flag', 'imgPath'], inplace=True)\n",
    "data.head()"
   ]
  },
  {
   "cell_type": "code",
   "execution_count": null,
   "metadata": {},
   "outputs": [],
   "source": [
    "# 把createTime的数字串转换成可读的时间\n",
    "data['time'] = pd.to_datetime(data.createTime*1000000, format='%Y-%m-%d %H:%M:%S', errors='ignore')\n",
    "data.head()"
   ]
  },
  {
   "cell_type": "code",
   "execution_count": null,
   "metadata": {},
   "outputs": [],
   "source": [
    "data.drop(columns=['createTime'], inplace=True)"
   ]
  },
  {
   "cell_type": "code",
   "execution_count": null,
   "metadata": {},
   "outputs": [],
   "source": [
    "# 指定处理后的文件名，作为explore_wechat的input\n",
    "output_file = ...\n",
    "\n",
    "data.to_csv(output_file, sep='\\t', index=False)"
   ]
  }
 ],
 "metadata": {
  "kernelspec": {
   "display_name": "Python 3",
   "language": "python",
   "name": "python3"
  },
  "language_info": {
   "codemirror_mode": {
    "name": "ipython",
    "version": 3
   },
   "file_extension": ".py",
   "mimetype": "text/x-python",
   "name": "python",
   "nbconvert_exporter": "python",
   "pygments_lexer": "ipython3",
   "version": "3.7.4"
  }
 },
 "nbformat": 4,
 "nbformat_minor": 2
}

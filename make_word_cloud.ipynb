{
 "cells": [
  {
   "cell_type": "code",
   "execution_count": null,
   "metadata": {},
   "outputs": [],
   "source": [
    "import matplotlib.pyplot as plt\n",
    "from wordcloud import WordCloud\n",
    "import jieba\n",
    "import pandas as pd"
   ]
  },
  {
   "cell_type": "code",
   "execution_count": null,
   "metadata": {},
   "outputs": [],
   "source": [
    "# 指定要分析的已经导出的聊天记录\n",
    "input_file = ...\n",
    "\n",
    "data = pd.read_csv(input_file, sep='\\t')\n",
    "data.head()"
   ]
  },
  {
   "cell_type": "code",
   "execution_count": null,
   "metadata": {},
   "outputs": [],
   "source": [
    "# 形成一个辞海，把所有聊天记录都放到一个string里\n",
    "text = data[data['type'] == 1]['content'].to_list()\n",
    "text = ''.join(text)"
   ]
  },
  {
   "cell_type": "code",
   "execution_count": null,
   "metadata": {},
   "outputs": [],
   "source": [
    "# 一定要set一个中文字体的文件路径，最好把字体文件放到和这个notebook的同一个文件夹里\n",
    "font_path = 'FZQKBYSJW.TTF'\n",
    "\n",
    "# 把你们的常用词放到一个list里给jieba读\n",
    "userdict_list = [...]\n",
    "for word in userdict_list:\n",
    "    jieba.add_word(word)\n",
    "\n",
    "# 用jieba分词\n",
    "wordlist_after_jieba = jieba.cut(text, cut_all = True)\n",
    "wl_space_split = \" \".join(wordlist_after_jieba)\n",
    "\n",
    "# 用WordCloud生成词云\n",
    "wc = WordCloud(font_path=font_path, background_color=\"white\", max_words=2000,\n",
    "               max_font_size=100, random_state=42, width=1000, height=1000, margin=2)\n",
    "\n",
    "\n",
    "wc.generate(wl_space_split)\n",
    "\n",
    "plt.imshow(wc)\n",
    "plt.axis(\"off\")\n",
    "plt.show()\n",
    "\n",
    "# 保存到jpg\n",
    "output_file = '**.jpg'\n",
    "wc.to_file(output_file)"
   ]
  }
 ],
 "metadata": {
  "kernelspec": {
   "display_name": "Python 3",
   "language": "python",
   "name": "python3"
  },
  "language_info": {
   "codemirror_mode": {
    "name": "ipython",
    "version": 3
   },
   "file_extension": ".py",
   "mimetype": "text/x-python",
   "name": "python",
   "nbconvert_exporter": "python",
   "pygments_lexer": "ipython3",
   "version": "3.7.4"
  }
 },
 "nbformat": 4,
 "nbformat_minor": 2
}

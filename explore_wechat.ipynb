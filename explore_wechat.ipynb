{
 "cells": [
  {
   "cell_type": "code",
   "execution_count": null,
   "metadata": {},
   "outputs": [],
   "source": [
    "import pandas as pd\n",
    "import numpy as np\n",
    "import datetime\n",
    "import matplotlib.pyplot as plt\n",
    "import seaborn as sns\n",
    "import matplotlib.font_manager as fm"
   ]
  },
  {
   "cell_type": "code",
   "execution_count": null,
   "metadata": {},
   "outputs": [],
   "source": [
    "# 指定要分析的已经导出的聊天记录\n",
    "input_file = ...\n",
    "\n",
    "data = pd.read_csv('final_data.tsv', sep='\\t')\n",
    "data.head()"
   ]
  },
  {
   "cell_type": "code",
   "execution_count": null,
   "metadata": {},
   "outputs": [],
   "source": [
    "# 消息量统计\n",
    "print('我们一共发了{}条信息'.format(len(data)))\n",
    "print('我发了{}条信息'.format(len(data[data['isSend'] == 1])))\n",
    "\n",
    "# 指定你要分析的人的名字\n",
    "talker = ...\n",
    "\n",
    "print('{}发了{}条信息'.format(talker, len(data[data['isSend'] == 0])))"
   ]
  },
  {
   "cell_type": "code",
   "execution_count": null,
   "metadata": {},
   "outputs": [],
   "source": [
    "# 平均消息量\n",
    "length = np.mean(data[data['isSend'] == 1].content.str.len())\n",
    "print('我发的信息平均字数为{}'.format(round(length, 2)))\n",
    "length = np.mean(data[data['isSend'] == 0].content.str.len())\n",
    "print('{}发的信息平均字数为{}'.format(talker, round(length, 2)))"
   ]
  },
  {
   "cell_type": "code",
   "execution_count": null,
   "metadata": {},
   "outputs": [],
   "source": [
    "# 调整time的格式\n",
    "data['time'] = pd.to_datetime(data.time, format='%Y-%m-%d %H:%M:%S', errors='ignore')\n",
    "\n",
    "# 根据time设置每条消息是星期几\n",
    "data['weekday'] = data.time.dt.weekday\n",
    "data.weekday.describe()\n",
    "\n",
    "# 根据time设置每条消息是几几年\n",
    "data['year'] = data.time.dt.year\n",
    "data.year.describe()\n",
    "\n",
    "# 根据time设置每条消息是什么日期\n",
    "data['date'] = data.time.dt.date\n",
    "\n",
    "# 根据time设置每条消息是什么小时\n",
    "data['hour'] = data.time.dt.hour"
   ]
  },
  {
   "cell_type": "code",
   "execution_count": null,
   "metadata": {},
   "outputs": [],
   "source": [
    "print('本次数据截至'.format(data.date.sort_values()[:1]))\n",
    "data.date.sort_values(ascending=False)[:1]"
   ]
  },
  {
   "cell_type": "code",
   "execution_count": null,
   "metadata": {},
   "outputs": [],
   "source": [
    "print('我们平均每天发{}条消息'.format(round(len(data)/len(data.date.unique()), 0)))"
   ]
  },
  {
   "cell_type": "code",
   "execution_count": null,
   "metadata": {},
   "outputs": [],
   "source": [
    "# create heatmap of the counts over the years\n",
    "# 制作聊天记录的热点图，颜色越深，聊天消息越多\n",
    "for year in data.year.unique():\n",
    "    piv = pd.pivot_table(data[data['year'] == year], values=\"content\",index=[\"hour\"], columns=[\"date\"], aggfunc=lambda x: len(x), fill_value=0)\n",
    "    fig, ax = plt.subplots(figsize=(80,10))\n",
    "    ax.set_title('我们{}年的消息量按小时分布'.format(year), fontproperties=font)\n",
    "    ax = sns.heatmap(piv, cmap=\"YlGnBu\")\n",
    "    plt.show()\n",
    "    fig.savefig('{}.png'.format(year))"
   ]
  },
  {
   "cell_type": "code",
   "execution_count": null,
   "metadata": {},
   "outputs": [],
   "source": [
    "# 统计一个星期里星期几聊天最多\n",
    "weekday_count = data.weekday.value_counts().sort_index()\n",
    "fig, ax = plt.subplots(nrows=1, ncols=1)\n",
    "font = fm.FontProperties(fname='FZQKBYSJW.TTF')\n",
    "ax.bar(['星期一', '星期二', '星期三', '星期四', '星期五', '星期六', '星期天'], weekday_count)\n",
    "ax.set_xticklabels(['星期一', '星期二', '星期三', '星期四', '星期五', '星期六', '星期天'], fontproperties=font)\n",
    "ax.set_title('我们最经常在星期几发信息？', fontproperties=font)\n",
    "fig.savefig('weekday.png')"
   ]
  },
  {
   "cell_type": "code",
   "execution_count": null,
   "metadata": {},
   "outputs": [],
   "source": [
    "# 统计一个星期里星期几我发的消息最多\n",
    "my_weekday_count = data[data.isSend == 1].weekday.value_counts().sort_index()\n",
    "fig, ax = plt.subplots(nrows=1, ncols=1)\n",
    "ax.set_title('我星期几发的消息最多？', fontproperties=font)\n",
    "ax.bar(['星期一', '星期二', '星期三', '星期四', '星期五', '星期六', '星期天'], my_weekday_count)\n",
    "ax.set_xticklabels(['星期一', '星期二', '星期三', '星期四', '星期五', '星期六', '星期天'], fontproperties=font)\n",
    "fig.savefig('weekday_me.png')"
   ]
  },
  {
   "cell_type": "code",
   "execution_count": null,
   "metadata": {},
   "outputs": [],
   "source": [
    "# 统计一个星期里星期几对方发的消息最多\n",
    "# 设置对方名字，保存图的时候用\n",
    "talker = ...\n",
    "\n",
    "weekday_count = data[data.isSend == 0].weekday.value_counts().sort_index()\n",
    "fig, ax = plt.subplots(nrows=1, ncols=1)\n",
    "ax.set_title('他星期几发的消息最多？', fontproperties=font)\n",
    "ax.bar(['星期一', '星期二', '星期三', '星期四', '星期五', '星期六', '星期天'], weekday_count)\n",
    "ax.set_xticklabels(['星期一', '星期二', '星期三', '星期四', '星期五', '星期六', '星期天'], fontproperties=font)\n",
    "fig.savefig('weekday_{}.png'.format(talker))"
   ]
  },
  {
   "cell_type": "code",
   "execution_count": null,
   "metadata": {},
   "outputs": [],
   "source": [
    "# 统计几几年我们发的消息字数最多\n",
    "data['length'] = data.content.str.len()\n",
    "year_len_sum = data[data.type == 1].groupby('year').sum().length\n",
    "fig, ax = plt.subplots(nrows=1, ncols=1)\n",
    "ax.set_title('我们几几年发的的字数？', fontproperties=font)\n",
    "ax.bar(year_len_sum.index, year_len_sum)\n",
    "plt.xticks(year_len_sum.index)\n",
    "fig.savefig('years_len.png')"
   ]
  },
  {
   "cell_type": "code",
   "execution_count": null,
   "metadata": {},
   "outputs": [],
   "source": [
    "# 统计几几年我们发的表情最多\n",
    "year_count = data[data.type == 47].year.value_counts().sort_index()\n",
    "print(year_count)\n",
    "fig, ax = plt.subplots(nrows=1, ncols=1)\n",
    "ax.set_title('我们几几年发的表情最多？', fontproperties=font)\n",
    "ax.bar(year_count.index, year_count)\n",
    "plt.xticks(year_count.index)\n",
    "fig.savefig('plots/years_emoji.png'.format(year))"
   ]
  },
  {
   "cell_type": "code",
   "execution_count": null,
   "metadata": {},
   "outputs": [],
   "source": [
    "# 统计几几年我们说话说得最多的日期TOP 10\n",
    "year = ...\n",
    "\n",
    "print('我们在{}年说话说得最多的日期TOP 10'.format(year))\n",
    "print(data[data.year==year].date.value_counts().sort_values(ascending=False)[:10])"
   ]
  },
  {
   "cell_type": "code",
   "execution_count": null,
   "metadata": {},
   "outputs": [],
   "source": [
    "# 统计几几年我们说话说得最少的日期TOP 10\n",
    "year = ...\n",
    "\n",
    "print('我们在{}年说话说得最少的日期TOP 10'.format(year))\n",
    "print(data[data.year==year].date.value_counts().sort_values(ascending=True)[:10])"
   ]
  },
  {
   "cell_type": "code",
   "execution_count": null,
   "metadata": {},
   "outputs": [],
   "source": [
    "# 分析每一年每一天的消息量\n",
    "for year in data.year.sort_values().unique():\n",
    "    date_count = data[data.year == year].date.value_counts()\n",
    "    fig, ax = plt.subplots(figsize=(20,5))\n",
    "    ax.set_title('我们{}年的消息量分布'.format(year), fontproperties=font)\n",
    "    ax.bar(date_count.index, date_count)\n",
    "    fig.savefig('date_{}.png'.format(year))"
   ]
  },
  {
   "cell_type": "code",
   "execution_count": null,
   "metadata": {},
   "outputs": [],
   "source": [
    "# 分析这么多年来，24小时每小时的总消息量\n",
    "hour_count = data.hour.value_counts().sort_index()\n",
    "fig, ax = plt.subplots(nrows=1, ncols=1)\n",
    "ax.set_title('我们什么时间发的消息最多？', fontproperties=font)\n",
    "ax.bar(hour_count.index, hour_count)\n",
    "plt.xticks(hour_count.index)\n",
    "fig.savefig('hours.png'.format(year))"
   ]
  },
  {
   "cell_type": "code",
   "execution_count": null,
   "metadata": {},
   "outputs": [],
   "source": [
    "# 统计一些词我们说过的次数\n",
    "\n",
    "# 设置对方的名字，输出时用\n",
    "talker = ...\n",
    "# 设置词的list\n",
    "word_list = [...]\n",
    "\n",
    "def count_word(word):\n",
    "    print('我们一共说了{}句{}'.format(len(data[data.content.str.contains(word)]), word))\n",
    "    print('我说了{}句{}'.format(len(data[(data.isSend == 1) & (data.content.str.contains(word))]), word))\n",
    "    print('{}说了{}句{}'.format(len(data[(data.isSend == 0) & (talker, data.content.str.contains(word))]), word))\n",
    "\n",
    "    \n",
    "for word in word_list:\n",
    "    print()\n",
    "    count_word(word)"
   ]
  }
 ],
 "metadata": {
  "kernelspec": {
   "display_name": "Python 3",
   "language": "python",
   "name": "python3"
  },
  "language_info": {
   "codemirror_mode": {
    "name": "ipython",
    "version": 3
   },
   "file_extension": ".py",
   "mimetype": "text/x-python",
   "name": "python",
   "nbconvert_exporter": "python",
   "pygments_lexer": "ipython3",
   "version": "3.7.4"
  }
 },
 "nbformat": 4,
 "nbformat_minor": 2
}
